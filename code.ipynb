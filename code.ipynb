{
 "cells": [
  {
   "cell_type": "code",
   "execution_count": 7,
   "metadata": {},
   "outputs": [
    {
     "name": "stdout",
     "output_type": "stream",
     "text": [
      "Processed and saved: output\\MCUCXR_0001_0_processed.png\n",
      "Processed and saved: output\\MCUCXR_0002_0_processed.png\n",
      "Processed and saved: output\\MCUCXR_0003_0_processed.png\n",
      "Processed and saved: output\\MCUCXR_0004_0_processed.png\n",
      "Processed and saved: output\\MCUCXR_0005_0_processed.png\n",
      "Processed and saved: output\\MCUCXR_0006_0_processed.png\n",
      "Processed and saved: output\\MCUCXR_0008_0_processed.png\n",
      "Processed and saved: output\\MCUCXR_0011_0_processed.png\n",
      "Processed and saved: output\\MCUCXR_0013_0_processed.png\n"
     ]
    }
   ],
   "source": [
    "import cv2\n",
    "import numpy as np\n",
    "import os\n",
    "\n",
    "def process_image(image):\n",
    "    grayImage = cv2.cvtColor(image, cv2.COLOR_BGR2GRAY)\n",
    "    _, thresh = cv2.threshold(grayImage, 10, 255, cv2.THRESH_BINARY)\n",
    "    contours, _ = cv2.findContours(thresh, cv2.RETR_EXTERNAL, cv2.CHAIN_APPROX_SIMPLE)\n",
    "    # make matrix of 0s of dimension grayImage\n",
    "    mask = np.zeros_like(grayImage)\n",
    "    largest_contour = max(contours, key=cv2.contourArea)\n",
    "    cv2.drawContours(mask, [largest_contour], -1, 255, thickness=cv2.FILLED)\n",
    "    # to add the transparent sticker like effect outside the boundary of drawn border\n",
    "    transparent_image = cv2.cvtColor(image, cv2.COLOR_BGR2BGRA)\n",
    "    transparent_image[:, :, 3] = mask\n",
    "    \n",
    "    return transparent_image\n",
    "\n",
    "def process_images_in_folder(folder_path, output_folder):\n",
    "    if not os.path.exists(output_folder):\n",
    "        os.makedirs(output_folder)\n",
    "    for filename in os.listdir(folder_path):\n",
    "        if filename.endswith(\".jpg\") or filename.endswith(\".png\"):\n",
    "            image_path = os.path.join(folder_path, filename)\n",
    "            image = cv2.imread(image_path)\n",
    "            \n",
    "            if image is not None:\n",
    "                processed_image = process_image(image)\n",
    "                height, width = processed_image.shape[:2]\n",
    "                new_height = 600\n",
    "                new_width = int(width * (new_height / height))\n",
    "                processed_image = cv2.resize(processed_image, (new_width, new_height))\n",
    "                name_without_ext = os.path.splitext(filename)[0]\n",
    "                output_filename = f\"{name_without_ext}_processed.png\"\n",
    "                output_path = os.path.join(output_folder, output_filename)\n",
    "                cv2.imwrite(output_path, processed_image)\n",
    "                print(f\"Processed and saved: {output_path}\")\n",
    "            else:\n",
    "                print(f\"Failed to read image: {filename}\")\n",
    "\n",
    "input_folder = 'input'  # Replace with your folder path\n",
    "output_folder = 'output'  # Replace with your output folder path\n",
    "\n",
    "process_images_in_folder(input_folder, output_folder)"
   ]
  }
 ],
 "metadata": {
  "kernelspec": {
   "display_name": "base",
   "language": "python",
   "name": "python3"
  },
  "language_info": {
   "codemirror_mode": {
    "name": "ipython",
    "version": 3
   },
   "file_extension": ".py",
   "mimetype": "text/x-python",
   "name": "python",
   "nbconvert_exporter": "python",
   "pygments_lexer": "ipython3",
   "version": "3.11.7"
  }
 },
 "nbformat": 4,
 "nbformat_minor": 2
}
